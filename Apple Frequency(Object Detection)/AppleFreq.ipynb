{
  "nbformat": 4,
  "nbformat_minor": 0,
  "metadata": {
    "colab": {
      "name": "AppleFreq.ipynb",
      "provenance": [],
      "collapsed_sections": [],
      "mount_file_id": "1TQet9GFdqXctoUqW-I4tXKURbCrtRl6h",
      "authorship_tag": "ABX9TyNCHC6wtwvs8ghQzPhM5wS/",
      "include_colab_link": true
    },
    "kernelspec": {
      "name": "python3",
      "display_name": "Python 3"
    },
    "language_info": {
      "name": "python"
    },
    "accelerator": "GPU",
    "gpuClass": "standard"
  },
  "cells": [
    {
      "cell_type": "markdown",
      "metadata": {
        "id": "view-in-github",
        "colab_type": "text"
      },
      "source": [
        "<a href=\"https://colab.research.google.com/github/Sarfaraz-Ali/ComputerVision/blob/main/Apple%20Frequency(Object%20Detection)/AppleFreq.ipynb\" target=\"_parent\"><img src=\"https://colab.research.google.com/assets/colab-badge.svg\" alt=\"Open In Colab\"/></a>"
      ]
    },
    {
      "cell_type": "markdown",
      "source": [
        "# Setting up the environment"
      ],
      "metadata": {
        "id": "Ksk9XjCJs_SW"
      }
    },
    {
      "cell_type": "code",
      "execution_count": null,
      "metadata": {
        "id": "UVRU9kp7PLxf"
      },
      "outputs": [],
      "source": [
        "# !git clone https://github.com/ultralytics/yolov5"
      ]
    },
    {
      "cell_type": "code",
      "source": [
        "pwd"
      ],
      "metadata": {
        "colab": {
          "base_uri": "https://localhost:8080/",
          "height": 35
        },
        "id": "gEA7vItFXuYU",
        "outputId": "47724171-a102-412c-c792-399a6ec48087"
      },
      "execution_count": null,
      "outputs": [
        {
          "output_type": "execute_result",
          "data": {
            "text/plain": [
              "'/content'"
            ],
            "application/vnd.google.colaboratory.intrinsic+json": {
              "type": "string"
            }
          },
          "metadata": {},
          "execution_count": 2
        }
      ]
    },
    {
      "cell_type": "code",
      "source": [
        "from google.colab import drive\n",
        "drive.mount('/content/drive')"
      ],
      "metadata": {
        "id": "FkK-xkT5DaSz"
      },
      "execution_count": null,
      "outputs": []
    },
    {
      "cell_type": "code",
      "source": [
        "cd /content/drive/MyDrive/Pep_project/yolov5"
      ],
      "metadata": {
        "colab": {
          "base_uri": "https://localhost:8080/"
        },
        "id": "SPqfYwD7XzPl",
        "outputId": "5bf101bf-4aae-4e54-e961-2a25f2ff8cbe"
      },
      "execution_count": 1,
      "outputs": [
        {
          "output_type": "stream",
          "name": "stdout",
          "text": [
            "/content/drive/MyDrive/Pep_project/yolov5\n"
          ]
        }
      ]
    },
    {
      "cell_type": "code",
      "source": [
        "!pip install -r requirements.txt"
      ],
      "metadata": {
        "id": "S7JiDfF6X1H8"
      },
      "execution_count": null,
      "outputs": []
    },
    {
      "cell_type": "code",
      "source": [
        "!pip install -q roboflow"
      ],
      "metadata": {
        "id": "kVHRTKESX-bq"
      },
      "execution_count": null,
      "outputs": []
    },
    {
      "cell_type": "code",
      "source": [
        "import torch\n",
        "import os\n",
        "from IPython.display import Image, clear_output  # to display images\n",
        "\n",
        "print(f\"Setup complete. Using torch {torch.__version__} ({torch.cuda.get_device_properties(0).name if torch.cuda.is_available() else 'CPU'})\")"
      ],
      "metadata": {
        "colab": {
          "base_uri": "https://localhost:8080/"
        },
        "id": "8cVncpHHYiys",
        "outputId": "20af2648-29a1-4842-e4cc-2aa06fca2fdb"
      },
      "execution_count": 3,
      "outputs": [
        {
          "output_type": "stream",
          "name": "stdout",
          "text": [
            "Setup complete. Using torch 1.12.1+cu113 (Tesla T4)\n"
          ]
        }
      ]
    },
    {
      "cell_type": "code",
      "source": [
        "%cd .."
      ],
      "metadata": {
        "colab": {
          "base_uri": "https://localhost:8080/"
        },
        "id": "5Zlvtj7rYpwK",
        "outputId": "f197afcf-4c08-49eb-ad01-e207acd858e5"
      },
      "execution_count": null,
      "outputs": [
        {
          "output_type": "stream",
          "name": "stdout",
          "text": [
            "/content/drive/MyDrive/Pep_project\n"
          ]
        }
      ]
    },
    {
      "cell_type": "code",
      "source": [
        "pwd"
      ],
      "metadata": {
        "colab": {
          "base_uri": "https://localhost:8080/",
          "height": 35
        },
        "id": "q8zZpzYhZ5-_",
        "outputId": "a468683d-6f02-4104-abb5-25444e7e9757"
      },
      "execution_count": 32,
      "outputs": [
        {
          "output_type": "execute_result",
          "data": {
            "text/plain": [
              "'/content/drive/MyDrive/Pep_project/yolov5'"
            ],
            "application/vnd.google.colaboratory.intrinsic+json": {
              "type": "string"
            }
          },
          "metadata": {},
          "execution_count": 32
        }
      ]
    },
    {
      "cell_type": "code",
      "source": [
        "from PIL import Image\n",
        "import os\n",
        "from sklearn.model_selection import train_test_split\n",
        "import shutil\n",
        "import random\n",
        "import matplotlib.pyplot as plt\n",
        "import numpy as np\n",
        "from roboflow import Roboflow"
      ],
      "metadata": {
        "id": "QtyxqvUjEHhx"
      },
      "execution_count": 5,
      "outputs": []
    },
    {
      "cell_type": "code",
      "source": [
        "# rf = Roboflow(api_key=\"kBqAb6q1IJtDPIod5sjp\")\n",
        "# project = rf.workspace(\"rahul-kumar-tmms8\").project(\"damage_detect-ntnoi\")\n",
        "# dataset = project.version(1).download(\"yolov5\")"
      ],
      "metadata": {
        "id": "FDv0k8YwZ-pD"
      },
      "execution_count": null,
      "outputs": []
    },
    {
      "cell_type": "code",
      "source": [
        "# from roboflow import Roboflow\n",
        "# rf = Roboflow(api_key=\"kBqAb6q1IJtDPIod5sjp\")\n",
        "# project = rf.workspace(\"shreshtha-gaur\").project(\"defect-l5gny\")\n",
        "# dataset = project.version(1).download(\"yolov5\")"
      ],
      "metadata": {
        "id": "b_88EMyhra0F"
      },
      "execution_count": null,
      "outputs": []
    },
    {
      "cell_type": "code",
      "source": [
        "cd yolov5"
      ],
      "metadata": {
        "colab": {
          "base_uri": "https://localhost:8080/"
        },
        "id": "wycgN6AndQ0L",
        "outputId": "82187130-0cb3-4dc4-9ad4-21795539527c"
      },
      "execution_count": null,
      "outputs": [
        {
          "output_type": "stream",
          "name": "stdout",
          "text": [
            "/content/drive/MyDrive/Pep_project/yolov5\n"
          ]
        }
      ]
    },
    {
      "cell_type": "code",
      "source": [
        ""
      ],
      "metadata": {
        "id": "RFeiGJO7do6c"
      },
      "execution_count": null,
      "outputs": []
    },
    {
      "cell_type": "code",
      "source": [
        "img = Image.open(\"/content/damage_detect-1/images/train/1630149513068_jpg.rf.53155cfc621f73887cdab484a192d44f.jpg\")"
      ],
      "metadata": {
        "id": "SL56dWdQdpmI"
      },
      "execution_count": null,
      "outputs": []
    },
    {
      "cell_type": "code",
      "source": [
        "print(img.width,img.height)"
      ],
      "metadata": {
        "colab": {
          "base_uri": "https://localhost:8080/"
        },
        "id": "3ZYvPlYveE8g",
        "outputId": "2417e20c-ea5e-48c5-a717-7dc649f3071e"
      },
      "execution_count": null,
      "outputs": [
        {
          "output_type": "stream",
          "name": "stdout",
          "text": [
            "416 416\n"
          ]
        }
      ]
    },
    {
      "cell_type": "markdown",
      "source": [
        "# Training"
      ],
      "metadata": {
        "id": "G1flqDcwtHMJ"
      }
    },
    {
      "cell_type": "code",
      "source": [
        "!python train.py --img 416 --batch 8 --epochs 50 --data /content/drive/MyDrive/Pep_project/damage_detect-1/data.yaml --weights /content/drive/MyDrive/Pep_project/yolov5/runs/train/exp4/weights/best.pt --cache"
      ],
      "metadata": {
        "id": "OZIrRr1_alY-"
      },
      "execution_count": null,
      "outputs": []
    },
    {
      "cell_type": "code",
      "source": [
        ""
      ],
      "metadata": {
        "id": "XM1qQNPny_Ts"
      },
      "execution_count": null,
      "outputs": []
    },
    {
      "cell_type": "code",
      "source": [
        ""
      ],
      "metadata": {
        "id": "ejsJM_niztS9"
      },
      "execution_count": null,
      "outputs": []
    },
    {
      "cell_type": "code",
      "source": [
        ""
      ],
      "metadata": {
        "id": "9pYsIxJizj42"
      },
      "execution_count": null,
      "outputs": []
    },
    {
      "cell_type": "code",
      "source": [
        "dataset.location"
      ],
      "metadata": {
        "id": "dz8xRgPhe3M-"
      },
      "execution_count": null,
      "outputs": []
    },
    {
      "cell_type": "markdown",
      "source": [
        "# Creating directories of dataset "
      ],
      "metadata": {
        "id": "cO0-6kuzExe0"
      }
    },
    {
      "cell_type": "code",
      "source": [
        "# train_annotations, val_annotations = train_test_split( annotations, test_size = 0.2, random_state = 1)\n",
        "# val_annotations, test_annotations = train_test_split( val_annotations, test_size = 0.5, random_state = 1)"
      ],
      "metadata": {
        "id": "s2ZF7Kfn3lkV"
      },
      "execution_count": null,
      "outputs": []
    },
    {
      "cell_type": "code",
      "source": [
        "# Read images and annotations\n",
        "images = [os.path.join('/content/damage_detect-1/train/images', x) for x in os.listdir('/content/damage_detect-1/train/images')]\n",
        "annotations = [os.path.join('/content/damage_detect-1/train/labels', x) for x in os.listdir('/content/damage_detect-1/train/labels') if x[-3:] == \"txt\"]\n",
        "\n",
        "images.sort()\n",
        "annotations.sort()\n",
        "\n",
        "# Split the dataset into train-valid-test splits \n",
        "train_images, val_images, train_annotations, val_annotations = train_test_split(images, annotations, test_size = 0.2, random_state = 1)\n",
        "val_images, test_images, val_annotations, test_annotations = train_test_split(val_images, val_annotations, test_size = 0.5, random_state = 1)"
      ],
      "metadata": {
        "id": "lBXGNkX2fo_q"
      },
      "execution_count": null,
      "outputs": []
    },
    {
      "cell_type": "code",
      "source": [
        "type(images)"
      ],
      "metadata": {
        "colab": {
          "base_uri": "https://localhost:8080/"
        },
        "id": "2Gj3jAUEzh0f",
        "outputId": "e7ac7b99-d19b-4b35-f994-162ea7643f41"
      },
      "execution_count": null,
      "outputs": [
        {
          "output_type": "execute_result",
          "data": {
            "text/plain": [
              "list"
            ]
          },
          "metadata": {},
          "execution_count": 17
        }
      ]
    },
    {
      "cell_type": "code",
      "source": [
        "len(train_images)"
      ],
      "metadata": {
        "colab": {
          "base_uri": "https://localhost:8080/"
        },
        "id": "Euz3O44az9ah",
        "outputId": "38f0b83d-6efc-4fc9-ba2f-aacbfce0d6ed"
      },
      "execution_count": null,
      "outputs": [
        {
          "output_type": "execute_result",
          "data": {
            "text/plain": [
              "1852"
            ]
          },
          "metadata": {},
          "execution_count": 27
        }
      ]
    },
    {
      "cell_type": "code",
      "source": [
        "len(annotations)"
      ],
      "metadata": {
        "colab": {
          "base_uri": "https://localhost:8080/"
        },
        "id": "xpQvAocn0AAe",
        "outputId": "bd1564c0-a13d-41c0-9093-44f926b5adc9"
      },
      "execution_count": null,
      "outputs": [
        {
          "output_type": "execute_result",
          "data": {
            "text/plain": [
              "2316"
            ]
          },
          "metadata": {},
          "execution_count": 46
        }
      ]
    },
    {
      "cell_type": "code",
      "source": [
        "annotations[:5]"
      ],
      "metadata": {
        "id": "Lt6D48L40K1z"
      },
      "execution_count": null,
      "outputs": []
    },
    {
      "cell_type": "code",
      "source": [
        "images[:5]"
      ],
      "metadata": {
        "id": "b-yfkz200OFb"
      },
      "execution_count": null,
      "outputs": []
    },
    {
      "cell_type": "code",
      "source": [
        "!mkdir images/train images/val images/test labels/train labels/val labels/test"
      ],
      "metadata": {
        "id": "J6agOy2A0RsI"
      },
      "execution_count": null,
      "outputs": []
    },
    {
      "cell_type": "code",
      "source": [
        "pwd"
      ],
      "metadata": {
        "colab": {
          "base_uri": "https://localhost:8080/",
          "height": 35
        },
        "id": "v1ghbDxG07dC",
        "outputId": "9d7f0c84-9fbe-4f27-ccfc-8aee40531b8f"
      },
      "execution_count": null,
      "outputs": [
        {
          "output_type": "execute_result",
          "data": {
            "text/plain": [
              "'/content/damage_detect-1'"
            ],
            "application/vnd.google.colaboratory.intrinsic+json": {
              "type": "string"
            }
          },
          "metadata": {},
          "execution_count": 40
        }
      ]
    },
    {
      "cell_type": "code",
      "source": [
        "cd damage_detect-1/"
      ],
      "metadata": {
        "colab": {
          "base_uri": "https://localhost:8080/"
        },
        "id": "bCypM1V40-UH",
        "outputId": "b977bd66-f764-4cc2-a41b-1ef3fe3ee3fb"
      },
      "execution_count": null,
      "outputs": [
        {
          "output_type": "stream",
          "name": "stdout",
          "text": [
            "/content/damage_detect-1\n"
          ]
        }
      ]
    },
    {
      "cell_type": "code",
      "source": [
        "#Utility function to move images \n",
        "def move_files_to_folder(list_of_files, destination_folder):\n",
        "    for f in list_of_files:\n",
        "        try:\n",
        "            shutil.move(f, destination_folder)\n",
        "        except:\n",
        "            print(f)\n",
        "            assert False\n"
      ],
      "metadata": {
        "id": "Le7NCxs01Ct4"
      },
      "execution_count": null,
      "outputs": []
    },
    {
      "cell_type": "code",
      "source": [
        ""
      ],
      "metadata": {
        "id": "HdrqG0Gv1ir5"
      },
      "execution_count": null,
      "outputs": []
    },
    {
      "cell_type": "code",
      "source": [
        "\n",
        "# Move the splits into their folders\n",
        "move_files_to_folder(train_images, 'images/train')\n",
        "move_files_to_folder(val_images, 'images/val/')\n",
        "move_files_to_folder(test_images, 'images/test/')\n",
        "move_files_to_folder(train_annotations, 'labels/train/')\n",
        "move_files_to_folder(val_annotations, 'labels/val/')\n",
        "move_files_to_folder(test_annotations, 'labels/test/')"
      ],
      "metadata": {
        "id": "9jf8BWB_1KqI"
      },
      "execution_count": null,
      "outputs": []
    },
    {
      "cell_type": "code",
      "source": [
        "pwd"
      ],
      "metadata": {
        "colab": {
          "base_uri": "https://localhost:8080/",
          "height": 35
        },
        "id": "GCUs2cwG1blC",
        "outputId": "3dbe1917-8b41-4e8a-dd25-15405733eeaa"
      },
      "execution_count": null,
      "outputs": [
        {
          "output_type": "execute_result",
          "data": {
            "text/plain": [
              "'/content/yolov5'"
            ],
            "application/vnd.google.colaboratory.intrinsic+json": {
              "type": "string"
            }
          },
          "metadata": {},
          "execution_count": 67
        }
      ]
    },
    {
      "cell_type": "code",
      "source": [
        "%cd .."
      ],
      "metadata": {
        "colab": {
          "base_uri": "https://localhost:8080/"
        },
        "id": "8uSbL2Xy5Nxw",
        "outputId": "2e5ba737-7c0a-4e20-91f3-618070dc9e8a"
      },
      "execution_count": null,
      "outputs": [
        {
          "output_type": "stream",
          "name": "stdout",
          "text": [
            "/content\n"
          ]
        }
      ]
    },
    {
      "cell_type": "code",
      "source": [
        "# !wget -P data/ https://gist.githubusercontent.com/ayooshkathuria/bcf7e3c929cbad445439c506dba6198d/raw/f437350c0c17c4eaa1e8657a5cb836e65d8aa08a/road_sign_data.yaml"
      ],
      "metadata": {
        "id": "QvnfZnRR5QC6"
      },
      "execution_count": null,
      "outputs": []
    },
    {
      "cell_type": "code",
      "source": [
        "# rf = Roboflow(api_key=\"kBqAb6q1IJtDPIod5sjp\")\n",
        "# project = rf.workspace(\"streamlit\").project(\"streamlit-logos\")\n",
        "# dataset = project.version(1).download(\"yolov5\")"
      ],
      "metadata": {
        "id": "h5TknI1V5aUH"
      },
      "execution_count": null,
      "outputs": []
    },
    {
      "cell_type": "markdown",
      "source": [
        "# Detection on test samples"
      ],
      "metadata": {
        "id": "kHbEUPjwKPV3"
      }
    },
    {
      "cell_type": "code",
      "source": [
        "!python detect.py --source /content/drive/MyDrive/Pep_project/damage_detect-1/hdTrim.mp4 --weights /content/drive/MyDrive/Pep_project/yolov5/runs/train/exp/weights/best.pt --conf 0.25 --name yolo_road_det"
      ],
      "metadata": {
        "id": "qHLFQucr68qI"
      },
      "execution_count": null,
      "outputs": []
    },
    {
      "cell_type": "code",
      "source": [
        ""
      ],
      "metadata": {
        "id": "hW2V6iB_Zipg"
      },
      "execution_count": null,
      "outputs": []
    },
    {
      "cell_type": "code",
      "source": [
        "detections_dir = \"runs/detect/yolo_road_det2/\"\n",
        "detection_images = [os.path.join(detections_dir, x) for x in os.listdir(detections_dir)]\n"
      ],
      "metadata": {
        "id": "IkUZO7WyRcPd"
      },
      "execution_count": null,
      "outputs": []
    },
    {
      "cell_type": "code",
      "source": [
        "random_detection_image = Image.open(random.choice(detection_images))\n",
        "plt.imshow(np.array(random_detection_image))"
      ],
      "metadata": {
        "colab": {
          "base_uri": "https://localhost:8080/",
          "height": 286
        },
        "id": "EWUQn_OaZZx6",
        "outputId": "06761701-94c5-4d4e-fa8b-07a94fad7f9b"
      },
      "execution_count": null,
      "outputs": [
        {
          "output_type": "execute_result",
          "data": {
            "text/plain": [
              "<matplotlib.image.AxesImage at 0x7fd983710250>"
            ]
          },
          "metadata": {},
          "execution_count": 105
        },
        {
          "output_type": "display_data",
          "data": {
            "text/plain": [
              "<Figure size 432x288 with 1 Axes>"
            ],
            "image/png": "[encoded data removed]"
          },
          "metadata": {
            "needs_background": "light"
          }
        }
      ]
    },
    {
      "cell_type": "markdown",
      "source": [
        "#Val.py on model after every 50 epochs"
      ],
      "metadata": {
        "id": "EjNgIc27sqFB"
      }
    },
    {
      "cell_type": "code",
      "source": [
        "!python val.py --weights /content/drive/MyDrive/Pep_project/yolov5/runs/train/exp/weights/best.pt --data /content/drive/MyDrive/Pep_project/damage_detect-1/data.yaml --task test --name yolo_det"
      ],
      "metadata": {
        "colab": {
          "base_uri": "https://localhost:8080/"
        },
        "id": "qminmYOga7rI",
        "outputId": "cd463ea7-d317-47a1-f787-cca98344a72d"
      },
      "execution_count": null,
      "outputs": [
        {
          "output_type": "stream",
          "name": "stdout",
          "text": [
            "\u001b[34m\u001b[1mval: \u001b[0mdata=/content/damage_detect-1/data.yaml, weights=['/content/yolov5/runs/train/exp/weights/best.pt'], batch_size=32, imgsz=640, conf_thres=0.001, iou_thres=0.6, task=test, device=, workers=8, single_cls=False, augment=False, verbose=False, save_txt=False, save_hybrid=False, save_conf=False, save_json=False, project=runs/val, name=yolo_det, exist_ok=False, half=False, dnn=False\n",
            "YOLOv5 🚀 v6.1-295-gf8722b4 Python-3.7.13 torch-1.11.0+cu102 CUDA:0 (Tesla T4, 15110MiB)\n",
            "\n",
            "Fusing layers... \n",
            "Model summary: 444 layers, 86180143 parameters, 0 gradients, 203.8 GFLOPs\n",
            "\u001b[34m\u001b[1mtest: \u001b[0mScanning '/content/damage_detect-1/labels/test.cache' images and labels... 232 found, 0 missing, 0 empty, 0 corrupt: 100% 232/232 [00:00<?, ?it/s]\n",
            "               Class     Images     Labels          P          R     mAP@.5 mAP@.5:.95: 100% 8/8 [00:20<00:00,  2.52s/it]\n",
            "                 all        232       1289      0.867      0.861       0.91      0.617\n",
            "               apple        232        983      0.848      0.928      0.924      0.621\n",
            "       damaged_apple        232        306      0.887      0.794      0.897      0.613\n",
            "Speed: 0.2ms pre-process, 63.0ms inference, 2.5ms NMS per image at shape (32, 3, 640, 640)\n",
            "Results saved to \u001b[1mruns/val/yolo_det2\u001b[0m\n"
          ]
        }
      ]
    },
    {
      "cell_type": "code",
      "source": [
        "!python val.py --weights /content/drive/MyDrive/Pep_project/yolov5/runs/train/exp3/weights/best.pt --data /content/drive/MyDrive/Pep_project/damage_detect-1/data.yaml --task test --name yolo_detect"
      ],
      "metadata": {
        "colab": {
          "base_uri": "https://localhost:8080/"
        },
        "id": "zP_zdU9sdROe",
        "outputId": "315dfcd2-46fe-4fa5-df65-e4d2574a3023"
      },
      "execution_count": 36,
      "outputs": [
        {
          "output_type": "stream",
          "name": "stdout",
          "text": [
            "\u001b[34m\u001b[1mval: \u001b[0mdata=/content/drive/MyDrive/Pep_project/damage_detect-1/data.yaml, weights=['/content/drive/MyDrive/Pep_project/yolov5/runs/train/exp3/weights/best.pt'], batch_size=32, imgsz=640, conf_thres=0.001, iou_thres=0.6, task=test, device=, workers=8, single_cls=False, augment=False, verbose=False, save_txt=False, save_hybrid=False, save_conf=False, save_json=False, project=runs/val, name=yolo_detect, exist_ok=False, half=False, dnn=False\n",
            "YOLOv5 🚀 v6.1-295-gf8722b4 Python-3.7.13 torch-1.12.1+cu113 CUDA:0 (Tesla T4, 15110MiB)\n",
            "\n",
            "Fusing layers... \n",
            "Model summary: 444 layers, 86180143 parameters, 0 gradients\n",
            "\u001b[34m\u001b[1mtest: \u001b[0mScanning '/content/drive/MyDrive/Pep_project/damage_detect-1/labels/test' images and labels...232 found, 0 missing, 0 empty, 0 corrupt: 100% 232/232 [03:18<00:00,  1.17it/s]\n",
            "\u001b[34m\u001b[1mtest: \u001b[0mNew cache created: /content/drive/MyDrive/Pep_project/damage_detect-1/labels/test.cache\n",
            "               Class     Images     Labels          P          R     mAP@.5 mAP@.5:.95: 100% 8/8 [00:17<00:00,  2.20s/it]\n",
            "                 all        232       1289      0.899      0.895      0.932      0.652\n",
            "               apple        232        983      0.892      0.944      0.952      0.671\n",
            "       damaged_apple        232        306      0.906      0.846      0.913      0.634\n",
            "Speed: 0.3ms pre-process, 54.4ms inference, 2.0ms NMS per image at shape (32, 3, 640, 640)\n",
            "Results saved to \u001b[1mruns/val/yolo_detect2\u001b[0m\n"
          ]
        }
      ]
    },
    {
      "cell_type": "code",
      "source": [
        "!python val.py --weights /content/drive/MyDrive/Pep_project/yolov5/runs/train/exp4/weights/best.pt --data /content/drive/MyDrive/Pep_project/damage_detect-1/data.yaml --task test --name yolo_detect"
      ],
      "metadata": {
        "id": "PQsQuUUDdSdu",
        "colab": {
          "base_uri": "https://localhost:8080/"
        },
        "outputId": "705a0e5e-ff24-41a8-97fc-1606aede2944"
      },
      "execution_count": 38,
      "outputs": [
        {
          "output_type": "stream",
          "name": "stdout",
          "text": [
            "\u001b[34m\u001b[1mval: \u001b[0mdata=/content/drive/MyDrive/Pep_project/damage_detect-1/data.yaml, weights=['/content/drive/MyDrive/Pep_project/yolov5/runs/train/exp4/weights/best.pt'], batch_size=32, imgsz=640, conf_thres=0.001, iou_thres=0.6, task=test, device=, workers=8, single_cls=False, augment=False, verbose=False, save_txt=False, save_hybrid=False, save_conf=False, save_json=False, project=runs/val, name=yolo_detect, exist_ok=False, half=False, dnn=False\n",
            "YOLOv5 🚀 v6.1-295-gf8722b4 Python-3.7.13 torch-1.12.1+cu113 CUDA:0 (Tesla T4, 15110MiB)\n",
            "\n",
            "Fusing layers... \n",
            "Model summary: 444 layers, 86180143 parameters, 0 gradients\n",
            "\u001b[34m\u001b[1mtest: \u001b[0mScanning '/content/drive/MyDrive/Pep_project/damage_detect-1/labels/test.cache' images and labels... 232 found, 0 missing, 0 empty, 0 corrupt: 100% 232/232 [00:00<?, ?it/s]\n",
            "               Class     Images     Labels          P          R     mAP@.5 mAP@.5:.95: 100% 8/8 [00:16<00:00,  2.11s/it]\n",
            "                 all        232       1289      0.921      0.873      0.916      0.653\n",
            "               apple        232        983      0.904      0.943      0.947       0.68\n",
            "       damaged_apple        232        306      0.939      0.803      0.884      0.626\n",
            "Speed: 0.6ms pre-process, 50.6ms inference, 2.2ms NMS per image at shape (32, 3, 640, 640)\n",
            "Results saved to \u001b[1mruns/val/yolo_detect3\u001b[0m\n"
          ]
        }
      ]
    },
    {
      "cell_type": "code",
      "source": [
        "!python val.py --weights /content/drive/MyDrive/Pep_project/yolov5/runs/train/exp5/weights/best.pt --data /content/drive/MyDrive/Pep_project/damage_detect-1/data.yaml --task test --name yolo_detect"
      ],
      "metadata": {
        "colab": {
          "base_uri": "https://localhost:8080/"
        },
        "id": "o6yG0RnhsUxW",
        "outputId": "876e326a-d9fc-4c06-b75d-91ad337f2007"
      },
      "execution_count": 40,
      "outputs": [
        {
          "output_type": "stream",
          "name": "stdout",
          "text": [
            "\u001b[34m\u001b[1mval: \u001b[0mdata=/content/drive/MyDrive/Pep_project/damage_detect-1/data.yaml, weights=['/content/drive/MyDrive/Pep_project/yolov5/runs/train/exp5/weights/best.pt'], batch_size=32, imgsz=640, conf_thres=0.001, iou_thres=0.6, task=test, device=, workers=8, single_cls=False, augment=False, verbose=False, save_txt=False, save_hybrid=False, save_conf=False, save_json=False, project=runs/val, name=yolo_detect, exist_ok=False, half=False, dnn=False\n",
            "YOLOv5 🚀 v6.1-295-gf8722b4 Python-3.7.13 torch-1.12.1+cu113 CUDA:0 (Tesla T4, 15110MiB)\n",
            "\n",
            "Fusing layers... \n",
            "Model summary: 444 layers, 86180143 parameters, 0 gradients\n",
            "\u001b[34m\u001b[1mtest: \u001b[0mScanning '/content/drive/MyDrive/Pep_project/damage_detect-1/labels/test.cache' images and labels... 232 found, 0 missing, 0 empty, 0 corrupt: 100% 232/232 [00:00<?, ?it/s]\n",
            "               Class     Images     Labels          P          R     mAP@.5 mAP@.5:.95: 100% 8/8 [00:17<00:00,  2.15s/it]\n",
            "                 all        232       1289      0.921      0.872      0.916      0.655\n",
            "               apple        232        983      0.898       0.94      0.949      0.681\n",
            "       damaged_apple        232        306      0.944      0.804      0.884      0.629\n",
            "Speed: 1.1ms pre-process, 51.7ms inference, 2.0ms NMS per image at shape (32, 3, 640, 640)\n",
            "Results saved to \u001b[1mruns/val/yolo_detect4\u001b[0m\n"
          ]
        }
      ]
    },
    {
      "cell_type": "code",
      "source": [
        ""
      ],
      "metadata": {
        "id": "y81nBLN-c5pb"
      },
      "execution_count": null,
      "outputs": []
    }
  ]
}